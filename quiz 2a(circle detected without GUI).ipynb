{
 "cells": [
  {
   "cell_type": "code",
   "execution_count": 4,
   "metadata": {},
   "outputs": [],
   "source": [
    "# import the necessary packages\n",
    "import cv2\n",
    "import numpy as np\n",
    "import matplotlib.pyplot as plt\n",
    "import sys\n",
    "\n",
    "#define a function\n",
    "def ontrackbar(max_slider):\n",
    "    global Img\n",
    "    global dst\n",
    "    global gray\n",
    "    \n",
    "    dst =np.copy(Img)\n",
    "    #get reading from trackbar1&2 for th1&th2\n",
    "    th1=max_slider\n",
    "    th2= cv2.getTrackbarPos(\"threshold2\",\"Edges\")\n",
    "    # detect edges in gray image\n",
    "    edges= cv2.Canny(gray,th1,th2)\n",
    "    #Finds circles in a grayscale image using the Hough transform.\n",
    "    circles = cv2.HoughCircles(edges, cv2.HOUGH_GRADIENT,1, 60,param1=100,param2=30,minRadius=0,maxRadius=50)\n",
    "    circles = np.uint16(np.around(circles))\n",
    "    circles_detected= np.any(circles)\n",
    "    if circles_detected==True:\n",
    "        # Draw the circles found on the Image\n",
    "        for i in circles[0,:]:\n",
    "            # draw the outer circle\"\n",
    "            cv2.circle(dst,(i[0],i[1]),i[2],(0,100,100),2)\n",
    "            # draw the center of the circle\n",
    "            cv2.circle(dst,(i[0],i[1]),2,(255,0,255),3)\n",
    "            # display the 2 images\n",
    "            cv2.imshow('detected circles',dst)\n",
    "            cv2.imshow(\"Edges\",edges)\n",
    "    #if No circle is detected mention that no circle found\n",
    "    else:\n",
    "        print(\"no circle found\")\n",
    "if __name__==\"__main__\":\n",
    "    # read the image from disk, filter noise from it and convert it to grayscale\n",
    "    Img=cv2.imread(\"bicycle2.JFIF\")\n",
    "    img = cv2.medianBlur(Img,5)\n",
    "    dst=np.copy(Img)\n",
    "    gray=cv2.cvtColor(img,cv2.COLOR_BGR2GRAY)\n",
    "    # create 2 windows for the images \n",
    "    cv2.namedWindow(\"Edges\")\n",
    "    cv2.namedWindow(\"detected circles\")\n",
    "    # define the initial values and maximum length of the 2 trackbars\n",
    "    inith=20\n",
    "    maxth=500\n",
    "    inith1=19\n",
    "    maxth1=490\n",
    "    #create 2 trackbars in the edge window\n",
    "    cv2.createTrackbar(\"threshold\",\"Edges\",inith,maxth,ontrackbar)\n",
    "    cv2.createTrackbar(\"threshold2\",\"Edges\",inith1,maxth1,ontrackbar)\n",
    "    ontrackbar(inith)\n",
    "        \n",
    "cv2.waitKey(0)\n",
    "cv2.destroyAllWindows()"
   ]
  },
  {
   "cell_type": "code",
   "execution_count": null,
   "metadata": {},
   "outputs": [],
   "source": []
  }
 ],
 "metadata": {
  "kernelspec": {
   "display_name": "Python 3",
   "language": "python",
   "name": "python3"
  },
  "language_info": {
   "codemirror_mode": {
    "name": "ipython",
    "version": 3
   },
   "file_extension": ".py",
   "mimetype": "text/x-python",
   "name": "python",
   "nbconvert_exporter": "python",
   "pygments_lexer": "ipython3",
   "version": "3.8.5"
  }
 },
 "nbformat": 4,
 "nbformat_minor": 4
}
